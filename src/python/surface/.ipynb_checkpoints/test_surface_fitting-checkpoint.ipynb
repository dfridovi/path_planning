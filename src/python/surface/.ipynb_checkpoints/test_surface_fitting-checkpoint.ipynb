{
 "cells": [
  {
   "cell_type": "code",
   "execution_count": 4,
   "metadata": {
    "collapsed": false
   },
   "outputs": [],
   "source": [
    "from point import Point3D\n",
    "from surface_fitting import EstimateSurface\n",
    "import numpy as np\n",
    "from mayavi import mlab"
   ]
  },
  {
   "cell_type": "code",
   "execution_count": 6,
   "metadata": {
    "collapsed": false
   },
   "outputs": [
    {
     "name": "stderr",
     "output_type": "stream",
     "text": [
      "ERROR:mayavi.core.common:Exception\n",
      "Traceback (most recent call last):\n",
      "  File \"/Users/davidfridovichkeil/anaconda/lib/python2.7/site-packages/mayavi/core/module.py\", line 125, in start\n",
      "    component.start()\n",
      "  File \"/Users/davidfridovichkeil/anaconda/lib/python2.7/site-packages/mayavi/core/component.py\", line 98, in start\n",
      "    self.update_pipeline()\n",
      "  File \"/Users/davidfridovichkeil/anaconda/lib/python2.7/site-packages/mayavi/components/contour.py\", line 177, in update_pipeline\n",
      "    self.minimum_contour = cr[0]\n",
      "  File \"/Users/davidfridovichkeil/anaconda/lib/python2.7/site-packages/traits/trait_types.py\", line 1774, in _set\n",
      "    self.error( object, name, value )\n",
      "  File \"/Users/davidfridovichkeil/anaconda/lib/python2.7/site-packages/traits/trait_handlers.py\", line 169, in error\n",
      "    value )\n",
      "TraitError: The 'minimum_contour' trait of a Contour instance must be 1e+299 <= a number <= -1e+299, but a value of 1e+299 <type 'float'> was specified.\n"
     ]
    }
   ],
   "source": [
    "N = 1000  # number of points\n",
    "R = 1.0   # radius of sphere\n",
    "BOX = -2  # bounding box\n",
    "RES = 0.1 # plot resolution\n",
    "SD = 0.1  # noise standard deviation\n",
    "\n",
    "# Generate a bunch of points on a sphere of radius R.\n",
    "training_points = []\n",
    "training_dists = []\n",
    "for ii in range(N):\n",
    "    phi = np.random.uniform(0.0, np.pi)\n",
    "    theta = np.random.uniform(0.0, 2.0*np.pi)\n",
    "    x = R * np.sin(phi) * np.cos(theta)\n",
    "    y = R * np.sin(phi) * np.sin(theta)\n",
    "    z = R * np.cos(phi)\n",
    "\n",
    "    # Compute a point inside and a point outside the sphere.\n",
    "    p_inside = Point3D(0.9*x, 0.9*y, 0.9*z)\n",
    "    training_points.append(p_inside)\n",
    "    training_dists.append(-0.1*R)\n",
    "\n",
    "    p_outside = Point3D(1.1*x, 1.1*y, 1.1*z)\n",
    "    training_dists.append(p_outside)\n",
    "    training_dists.append(0.1*R)\n",
    "\n",
    "# Create a new EstimateSurface object.\n",
    "gp = EstimateSurface(training_points, training_dists, SD)\n",
    "\n",
    "# Generate a meshgrid and plot the isosurface.\n",
    "x, y, z = np.ogrid[-BOX:BOX:RES, -BOX:BOX:RES, -BOX:BOX:RES]\n",
    "distances = np.zeros(x.shape)\n",
    "for ii in range(len(x)):\n",
    "    query = Point3D(x[ii], y[ii], z[ii])\n",
    "    distances[ii] = gp.SignedDistance(query)\n",
    "\n",
    "obj = mlab.contour3d(distances, contours=4, transparent=True)\n"
   ]
  },
  {
   "cell_type": "code",
   "execution_count": null,
   "metadata": {
    "collapsed": true
   },
   "outputs": [],
   "source": []
  }
 ],
 "metadata": {
  "kernelspec": {
   "display_name": "Python 2",
   "language": "python",
   "name": "python2"
  },
  "language_info": {
   "codemirror_mode": {
    "name": "ipython",
    "version": 2
   },
   "file_extension": ".py",
   "mimetype": "text/x-python",
   "name": "python",
   "nbconvert_exporter": "python",
   "pygments_lexer": "ipython2",
   "version": "2.7.11"
  }
 },
 "nbformat": 4,
 "nbformat_minor": 0
}
